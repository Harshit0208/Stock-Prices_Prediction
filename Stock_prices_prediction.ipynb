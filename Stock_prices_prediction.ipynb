{
  "nbformat": 4,
  "nbformat_minor": 0,
  "metadata": {
    "colab": {
      "name": "Stock_prices_prediction.ipynb",
      "provenance": [],
      "collapsed_sections": [
        "LqL4FlCiJTTO",
        "I3f2ARAYVvhT"
      ],
      "include_colab_link": true
    },
    "kernelspec": {
      "name": "python3",
      "display_name": "Python 3"
    }
  },
  "cells": [
    {
      "cell_type": "markdown",
      "metadata": {
        "id": "view-in-github",
        "colab_type": "text"
      },
      "source": [
        "<a href=\"https://colab.research.google.com/github/Harshit0208/Stock-Prices_Prediction/blob/master/Stock_prices_prediction.ipynb\" target=\"_parent\"><img src=\"https://colab.research.google.com/assets/colab-badge.svg\" alt=\"Open In Colab\"/></a>"
      ]
    },
    {
      "cell_type": "markdown",
      "metadata": {
        "id": "TgzTEF9P9Ezn",
        "colab_type": "text"
      },
      "source": [
        "#Stock Prices Prediction Using Machine Learning and Deep Learning Techniques "
      ]
    },
    {
      "cell_type": "code",
      "metadata": {
        "id": "pHHmokE2ZyvB",
        "colab_type": "code",
        "outputId": "6b91ae53-05a6-4f6b-8dac-184f20ed1973",
        "colab": {
          "base_uri": "https://localhost:8080/",
          "height": 34
        }
      },
      "source": [
        "from google.colab import drive\n",
        "drive.mount('/content/drive')"
      ],
      "execution_count": 20,
      "outputs": [
        {
          "output_type": "stream",
          "text": [
            "Drive already mounted at /content/drive; to attempt to forcibly remount, call drive.mount(\"/content/drive\", force_remount=True).\n"
          ],
          "name": "stdout"
        }
      ]
    },
    {
      "cell_type": "code",
      "metadata": {
        "id": "75RnRGs1ZzfQ",
        "colab_type": "code",
        "colab": {}
      },
      "source": [
        "#import packages\n",
        "import pandas as pd\n",
        "import numpy as np\n",
        "import matplotlib.pyplot as plt\n",
        "%matplotlib inline\n"
      ],
      "execution_count": 0,
      "outputs": []
    },
    {
      "cell_type": "markdown",
      "metadata": {
        "id": "CyKoGzDw-Kxl",
        "colab_type": "text"
      },
      "source": [
        "###Reading and Analysing data:"
      ]
    },
    {
      "cell_type": "code",
      "metadata": {
        "id": "wBw7bNSqa-gL",
        "colab_type": "code",
        "colab": {
          "base_uri": "https://localhost:8080/",
          "height": 204
        },
        "outputId": "dffbf4c6-37a1-4e3e-a895-600587d3ee4c"
      },
      "source": [
        "df=pd.read_csv('/content/drive/My Drive/NSE-TATAGLOBAL11.csv')\n",
        "df.head()\n"
      ],
      "execution_count": 22,
      "outputs": [
        {
          "output_type": "execute_result",
          "data": {
            "text/html": [
              "<div>\n",
              "<style scoped>\n",
              "    .dataframe tbody tr th:only-of-type {\n",
              "        vertical-align: middle;\n",
              "    }\n",
              "\n",
              "    .dataframe tbody tr th {\n",
              "        vertical-align: top;\n",
              "    }\n",
              "\n",
              "    .dataframe thead th {\n",
              "        text-align: right;\n",
              "    }\n",
              "</style>\n",
              "<table border=\"1\" class=\"dataframe\">\n",
              "  <thead>\n",
              "    <tr style=\"text-align: right;\">\n",
              "      <th></th>\n",
              "      <th>Date</th>\n",
              "      <th>Open</th>\n",
              "      <th>High</th>\n",
              "      <th>Low</th>\n",
              "      <th>Last</th>\n",
              "      <th>Close</th>\n",
              "      <th>Total Trade Quantity</th>\n",
              "      <th>Turnover (Lacs)</th>\n",
              "    </tr>\n",
              "  </thead>\n",
              "  <tbody>\n",
              "    <tr>\n",
              "      <th>0</th>\n",
              "      <td>2018-10-08</td>\n",
              "      <td>208.00</td>\n",
              "      <td>222.25</td>\n",
              "      <td>206.85</td>\n",
              "      <td>216.00</td>\n",
              "      <td>215.15</td>\n",
              "      <td>4642146.0</td>\n",
              "      <td>10062.83</td>\n",
              "    </tr>\n",
              "    <tr>\n",
              "      <th>1</th>\n",
              "      <td>2018-10-05</td>\n",
              "      <td>217.00</td>\n",
              "      <td>218.60</td>\n",
              "      <td>205.90</td>\n",
              "      <td>210.25</td>\n",
              "      <td>209.20</td>\n",
              "      <td>3519515.0</td>\n",
              "      <td>7407.06</td>\n",
              "    </tr>\n",
              "    <tr>\n",
              "      <th>2</th>\n",
              "      <td>2018-10-04</td>\n",
              "      <td>223.50</td>\n",
              "      <td>227.80</td>\n",
              "      <td>216.15</td>\n",
              "      <td>217.25</td>\n",
              "      <td>218.20</td>\n",
              "      <td>1728786.0</td>\n",
              "      <td>3815.79</td>\n",
              "    </tr>\n",
              "    <tr>\n",
              "      <th>3</th>\n",
              "      <td>2018-10-03</td>\n",
              "      <td>230.00</td>\n",
              "      <td>237.50</td>\n",
              "      <td>225.75</td>\n",
              "      <td>226.45</td>\n",
              "      <td>227.60</td>\n",
              "      <td>1708590.0</td>\n",
              "      <td>3960.27</td>\n",
              "    </tr>\n",
              "    <tr>\n",
              "      <th>4</th>\n",
              "      <td>2018-10-01</td>\n",
              "      <td>234.55</td>\n",
              "      <td>234.60</td>\n",
              "      <td>221.05</td>\n",
              "      <td>230.30</td>\n",
              "      <td>230.90</td>\n",
              "      <td>1534749.0</td>\n",
              "      <td>3486.05</td>\n",
              "    </tr>\n",
              "  </tbody>\n",
              "</table>\n",
              "</div>"
            ],
            "text/plain": [
              "         Date    Open    High  ...   Close  Total Trade Quantity  Turnover (Lacs)\n",
              "0  2018-10-08  208.00  222.25  ...  215.15             4642146.0         10062.83\n",
              "1  2018-10-05  217.00  218.60  ...  209.20             3519515.0          7407.06\n",
              "2  2018-10-04  223.50  227.80  ...  218.20             1728786.0          3815.79\n",
              "3  2018-10-03  230.00  237.50  ...  227.60             1708590.0          3960.27\n",
              "4  2018-10-01  234.55  234.60  ...  230.90             1534749.0          3486.05\n",
              "\n",
              "[5 rows x 8 columns]"
            ]
          },
          "metadata": {
            "tags": []
          },
          "execution_count": 22
        }
      ]
    },
    {
      "cell_type": "code",
      "metadata": {
        "id": "quN3D_Pi80Ok",
        "colab_type": "code",
        "colab": {
          "base_uri": "https://localhost:8080/",
          "height": 235
        },
        "outputId": "95341851-4580-4d87-ce1b-23bfca6df64b"
      },
      "source": [
        "df['Date']=pd.to_datetime(df.Date,format='%Y-%m-%d')\n",
        "df.index=df['Date']\n",
        "\n",
        "df.head()"
      ],
      "execution_count": 23,
      "outputs": [
        {
          "output_type": "execute_result",
          "data": {
            "text/html": [
              "<div>\n",
              "<style scoped>\n",
              "    .dataframe tbody tr th:only-of-type {\n",
              "        vertical-align: middle;\n",
              "    }\n",
              "\n",
              "    .dataframe tbody tr th {\n",
              "        vertical-align: top;\n",
              "    }\n",
              "\n",
              "    .dataframe thead th {\n",
              "        text-align: right;\n",
              "    }\n",
              "</style>\n",
              "<table border=\"1\" class=\"dataframe\">\n",
              "  <thead>\n",
              "    <tr style=\"text-align: right;\">\n",
              "      <th></th>\n",
              "      <th>Date</th>\n",
              "      <th>Open</th>\n",
              "      <th>High</th>\n",
              "      <th>Low</th>\n",
              "      <th>Last</th>\n",
              "      <th>Close</th>\n",
              "      <th>Total Trade Quantity</th>\n",
              "      <th>Turnover (Lacs)</th>\n",
              "    </tr>\n",
              "    <tr>\n",
              "      <th>Date</th>\n",
              "      <th></th>\n",
              "      <th></th>\n",
              "      <th></th>\n",
              "      <th></th>\n",
              "      <th></th>\n",
              "      <th></th>\n",
              "      <th></th>\n",
              "      <th></th>\n",
              "    </tr>\n",
              "  </thead>\n",
              "  <tbody>\n",
              "    <tr>\n",
              "      <th>2018-10-08</th>\n",
              "      <td>2018-10-08</td>\n",
              "      <td>208.00</td>\n",
              "      <td>222.25</td>\n",
              "      <td>206.85</td>\n",
              "      <td>216.00</td>\n",
              "      <td>215.15</td>\n",
              "      <td>4642146.0</td>\n",
              "      <td>10062.83</td>\n",
              "    </tr>\n",
              "    <tr>\n",
              "      <th>2018-10-05</th>\n",
              "      <td>2018-10-05</td>\n",
              "      <td>217.00</td>\n",
              "      <td>218.60</td>\n",
              "      <td>205.90</td>\n",
              "      <td>210.25</td>\n",
              "      <td>209.20</td>\n",
              "      <td>3519515.0</td>\n",
              "      <td>7407.06</td>\n",
              "    </tr>\n",
              "    <tr>\n",
              "      <th>2018-10-04</th>\n",
              "      <td>2018-10-04</td>\n",
              "      <td>223.50</td>\n",
              "      <td>227.80</td>\n",
              "      <td>216.15</td>\n",
              "      <td>217.25</td>\n",
              "      <td>218.20</td>\n",
              "      <td>1728786.0</td>\n",
              "      <td>3815.79</td>\n",
              "    </tr>\n",
              "    <tr>\n",
              "      <th>2018-10-03</th>\n",
              "      <td>2018-10-03</td>\n",
              "      <td>230.00</td>\n",
              "      <td>237.50</td>\n",
              "      <td>225.75</td>\n",
              "      <td>226.45</td>\n",
              "      <td>227.60</td>\n",
              "      <td>1708590.0</td>\n",
              "      <td>3960.27</td>\n",
              "    </tr>\n",
              "    <tr>\n",
              "      <th>2018-10-01</th>\n",
              "      <td>2018-10-01</td>\n",
              "      <td>234.55</td>\n",
              "      <td>234.60</td>\n",
              "      <td>221.05</td>\n",
              "      <td>230.30</td>\n",
              "      <td>230.90</td>\n",
              "      <td>1534749.0</td>\n",
              "      <td>3486.05</td>\n",
              "    </tr>\n",
              "  </tbody>\n",
              "</table>\n",
              "</div>"
            ],
            "text/plain": [
              "                 Date    Open  ...  Total Trade Quantity  Turnover (Lacs)\n",
              "Date                           ...                                       \n",
              "2018-10-08 2018-10-08  208.00  ...             4642146.0         10062.83\n",
              "2018-10-05 2018-10-05  217.00  ...             3519515.0          7407.06\n",
              "2018-10-04 2018-10-04  223.50  ...             1728786.0          3815.79\n",
              "2018-10-03 2018-10-03  230.00  ...             1708590.0          3960.27\n",
              "2018-10-01 2018-10-01  234.55  ...             1534749.0          3486.05\n",
              "\n",
              "[5 rows x 8 columns]"
            ]
          },
          "metadata": {
            "tags": []
          },
          "execution_count": 23
        }
      ]
    },
    {
      "cell_type": "code",
      "metadata": {
        "id": "4um8SlWY_ZaI",
        "colab_type": "code",
        "colab": {
          "base_uri": "https://localhost:8080/",
          "height": 395
        },
        "outputId": "e3c9a389-04f5-403f-b705-1b3afa06fe72"
      },
      "source": [
        "plt.figure(figsize=(12,6))\n",
        "plt.plot(df['Close'],label='Close Prices History')"
      ],
      "execution_count": 24,
      "outputs": [
        {
          "output_type": "execute_result",
          "data": {
            "text/plain": [
              "[<matplotlib.lines.Line2D at 0x7f981f401b70>]"
            ]
          },
          "metadata": {
            "tags": []
          },
          "execution_count": 24
        },
        {
          "output_type": "display_data",
          "data": {
            "image/png": "[encoded data removed]",
            "text/plain": [
              "<Figure size 864x432 with 1 Axes>"
            ]
          },
          "metadata": {
            "tags": []
          }
        }
      ]
    },
    {
      "cell_type": "markdown",
      "metadata": {
        "id": "C1poK-bwCWAb",
        "colab_type": "text"
      },
      "source": [
        "##Moving Average\n"
      ]
    },
    {
      "cell_type": "code",
      "metadata": {
        "id": "ovDc-4aNCYwp",
        "colab_type": "code",
        "colab": {}
      },
      "source": [
        "data = df.sort_index(ascending=True, axis=0)\n",
        "new_data = pd.DataFrame(index=range(0,len(df)),columns=['Date', 'Close'])"
      ],
      "execution_count": 0,
      "outputs": []
    },
    {
      "cell_type": "code",
      "metadata": {
        "id": "Uvl-tp6WERxI",
        "colab_type": "code",
        "colab": {
          "base_uri": "https://localhost:8080/",
          "height": 235
        },
        "outputId": "f40e9708-e658-4f59-de59-7961693792c9"
      },
      "source": [
        "data.head()"
      ],
      "execution_count": 26,
      "outputs": [
        {
          "output_type": "execute_result",
          "data": {
            "text/html": [
              "<div>\n",
              "<style scoped>\n",
              "    .dataframe tbody tr th:only-of-type {\n",
              "        vertical-align: middle;\n",
              "    }\n",
              "\n",
              "    .dataframe tbody tr th {\n",
              "        vertical-align: top;\n",
              "    }\n",
              "\n",
              "    .dataframe thead th {\n",
              "        text-align: right;\n",
              "    }\n",
              "</style>\n",
              "<table border=\"1\" class=\"dataframe\">\n",
              "  <thead>\n",
              "    <tr style=\"text-align: right;\">\n",
              "      <th></th>\n",
              "      <th>Date</th>\n",
              "      <th>Open</th>\n",
              "      <th>High</th>\n",
              "      <th>Low</th>\n",
              "      <th>Last</th>\n",
              "      <th>Close</th>\n",
              "      <th>Total Trade Quantity</th>\n",
              "      <th>Turnover (Lacs)</th>\n",
              "    </tr>\n",
              "    <tr>\n",
              "      <th>Date</th>\n",
              "      <th></th>\n",
              "      <th></th>\n",
              "      <th></th>\n",
              "      <th></th>\n",
              "      <th></th>\n",
              "      <th></th>\n",
              "      <th></th>\n",
              "      <th></th>\n",
              "    </tr>\n",
              "  </thead>\n",
              "  <tbody>\n",
              "    <tr>\n",
              "      <th>2013-10-08</th>\n",
              "      <td>2013-10-08</td>\n",
              "      <td>157.00</td>\n",
              "      <td>157.80</td>\n",
              "      <td>155.20</td>\n",
              "      <td>155.8</td>\n",
              "      <td>155.80</td>\n",
              "      <td>1720413.0</td>\n",
              "      <td>2688.94</td>\n",
              "    </tr>\n",
              "    <tr>\n",
              "      <th>2013-10-09</th>\n",
              "      <td>2013-10-09</td>\n",
              "      <td>155.70</td>\n",
              "      <td>158.20</td>\n",
              "      <td>154.15</td>\n",
              "      <td>155.3</td>\n",
              "      <td>155.55</td>\n",
              "      <td>2049580.0</td>\n",
              "      <td>3204.49</td>\n",
              "    </tr>\n",
              "    <tr>\n",
              "      <th>2013-10-10</th>\n",
              "      <td>2013-10-10</td>\n",
              "      <td>156.00</td>\n",
              "      <td>160.80</td>\n",
              "      <td>155.85</td>\n",
              "      <td>160.3</td>\n",
              "      <td>160.15</td>\n",
              "      <td>3124853.0</td>\n",
              "      <td>4978.80</td>\n",
              "    </tr>\n",
              "    <tr>\n",
              "      <th>2013-10-11</th>\n",
              "      <td>2013-10-11</td>\n",
              "      <td>161.15</td>\n",
              "      <td>163.45</td>\n",
              "      <td>159.00</td>\n",
              "      <td>159.8</td>\n",
              "      <td>160.05</td>\n",
              "      <td>1880046.0</td>\n",
              "      <td>3030.76</td>\n",
              "    </tr>\n",
              "    <tr>\n",
              "      <th>2013-10-14</th>\n",
              "      <td>2013-10-14</td>\n",
              "      <td>160.85</td>\n",
              "      <td>161.45</td>\n",
              "      <td>157.70</td>\n",
              "      <td>159.3</td>\n",
              "      <td>159.45</td>\n",
              "      <td>1281419.0</td>\n",
              "      <td>2039.09</td>\n",
              "    </tr>\n",
              "  </tbody>\n",
              "</table>\n",
              "</div>"
            ],
            "text/plain": [
              "                 Date    Open  ...  Total Trade Quantity  Turnover (Lacs)\n",
              "Date                           ...                                       \n",
              "2013-10-08 2013-10-08  157.00  ...             1720413.0          2688.94\n",
              "2013-10-09 2013-10-09  155.70  ...             2049580.0          3204.49\n",
              "2013-10-10 2013-10-10  156.00  ...             3124853.0          4978.80\n",
              "2013-10-11 2013-10-11  161.15  ...             1880046.0          3030.76\n",
              "2013-10-14 2013-10-14  160.85  ...             1281419.0          2039.09\n",
              "\n",
              "[5 rows x 8 columns]"
            ]
          },
          "metadata": {
            "tags": []
          },
          "execution_count": 26
        }
      ]
    },
    {
      "cell_type": "code",
      "metadata": {
        "id": "VMosaHdnETbF",
        "colab_type": "code",
        "colab": {
          "base_uri": "https://localhost:8080/",
          "height": 204
        },
        "outputId": "ba8a8dc9-5150-4fe7-fc98-b76d7d6ff033"
      },
      "source": [
        "new_data.head()"
      ],
      "execution_count": 27,
      "outputs": [
        {
          "output_type": "execute_result",
          "data": {
            "text/html": [
              "<div>\n",
              "<style scoped>\n",
              "    .dataframe tbody tr th:only-of-type {\n",
              "        vertical-align: middle;\n",
              "    }\n",
              "\n",
              "    .dataframe tbody tr th {\n",
              "        vertical-align: top;\n",
              "    }\n",
              "\n",
              "    .dataframe thead th {\n",
              "        text-align: right;\n",
              "    }\n",
              "</style>\n",
              "<table border=\"1\" class=\"dataframe\">\n",
              "  <thead>\n",
              "    <tr style=\"text-align: right;\">\n",
              "      <th></th>\n",
              "      <th>Date</th>\n",
              "      <th>Close</th>\n",
              "    </tr>\n",
              "  </thead>\n",
              "  <tbody>\n",
              "    <tr>\n",
              "      <th>0</th>\n",
              "      <td>NaN</td>\n",
              "      <td>NaN</td>\n",
              "    </tr>\n",
              "    <tr>\n",
              "      <th>1</th>\n",
              "      <td>NaN</td>\n",
              "      <td>NaN</td>\n",
              "    </tr>\n",
              "    <tr>\n",
              "      <th>2</th>\n",
              "      <td>NaN</td>\n",
              "      <td>NaN</td>\n",
              "    </tr>\n",
              "    <tr>\n",
              "      <th>3</th>\n",
              "      <td>NaN</td>\n",
              "      <td>NaN</td>\n",
              "    </tr>\n",
              "    <tr>\n",
              "      <th>4</th>\n",
              "      <td>NaN</td>\n",
              "      <td>NaN</td>\n",
              "    </tr>\n",
              "  </tbody>\n",
              "</table>\n",
              "</div>"
            ],
            "text/plain": [
              "  Date Close\n",
              "0  NaN   NaN\n",
              "1  NaN   NaN\n",
              "2  NaN   NaN\n",
              "3  NaN   NaN\n",
              "4  NaN   NaN"
            ]
          },
          "metadata": {
            "tags": []
          },
          "execution_count": 27
        }
      ]
    },
    {
      "cell_type": "code",
      "metadata": {
        "id": "syecTEA7EZYG",
        "colab_type": "code",
        "colab": {
          "base_uri": "https://localhost:8080/",
          "height": 204
        },
        "outputId": "1910b491-b8cb-4f79-c9c3-be4a7fbb56e5"
      },
      "source": [
        "for i in range(0,len(data)):\n",
        "  new_data['Date'][i]=data['Date'][i]\n",
        "  new_data['Close'][i]=data['Close'][i]\n",
        "new_data.head()\n",
        "  "
      ],
      "execution_count": 28,
      "outputs": [
        {
          "output_type": "execute_result",
          "data": {
            "text/html": [
              "<div>\n",
              "<style scoped>\n",
              "    .dataframe tbody tr th:only-of-type {\n",
              "        vertical-align: middle;\n",
              "    }\n",
              "\n",
              "    .dataframe tbody tr th {\n",
              "        vertical-align: top;\n",
              "    }\n",
              "\n",
              "    .dataframe thead th {\n",
              "        text-align: right;\n",
              "    }\n",
              "</style>\n",
              "<table border=\"1\" class=\"dataframe\">\n",
              "  <thead>\n",
              "    <tr style=\"text-align: right;\">\n",
              "      <th></th>\n",
              "      <th>Date</th>\n",
              "      <th>Close</th>\n",
              "    </tr>\n",
              "  </thead>\n",
              "  <tbody>\n",
              "    <tr>\n",
              "      <th>0</th>\n",
              "      <td>2013-10-08 00:00:00</td>\n",
              "      <td>155.8</td>\n",
              "    </tr>\n",
              "    <tr>\n",
              "      <th>1</th>\n",
              "      <td>2013-10-09 00:00:00</td>\n",
              "      <td>155.55</td>\n",
              "    </tr>\n",
              "    <tr>\n",
              "      <th>2</th>\n",
              "      <td>2013-10-10 00:00:00</td>\n",
              "      <td>160.15</td>\n",
              "    </tr>\n",
              "    <tr>\n",
              "      <th>3</th>\n",
              "      <td>2013-10-11 00:00:00</td>\n",
              "      <td>160.05</td>\n",
              "    </tr>\n",
              "    <tr>\n",
              "      <th>4</th>\n",
              "      <td>2013-10-14 00:00:00</td>\n",
              "      <td>159.45</td>\n",
              "    </tr>\n",
              "  </tbody>\n",
              "</table>\n",
              "</div>"
            ],
            "text/plain": [
              "                  Date   Close\n",
              "0  2013-10-08 00:00:00   155.8\n",
              "1  2013-10-09 00:00:00  155.55\n",
              "2  2013-10-10 00:00:00  160.15\n",
              "3  2013-10-11 00:00:00  160.05\n",
              "4  2013-10-14 00:00:00  159.45"
            ]
          },
          "metadata": {
            "tags": []
          },
          "execution_count": 28
        }
      ]
    },
    {
      "cell_type": "code",
      "metadata": {
        "id": "9h5CkcQDFjcW",
        "colab_type": "code",
        "colab": {}
      },
      "source": [
        "train = new_data[:987]\n",
        "valid = new_data[987:]"
      ],
      "execution_count": 0,
      "outputs": []
    },
    {
      "cell_type": "code",
      "metadata": {
        "id": "fE5DLAxaGLy2",
        "colab_type": "code",
        "colab": {
          "base_uri": "https://localhost:8080/",
          "height": 85
        },
        "outputId": "49dcf5a8-d140-492b-e8db-9a37e5aa8fec"
      },
      "source": [
        "print('\\n Shape of training set:{}'.format(train.shape))\n",
        "print('\\n Shape of validation set:{}'.format(valid.shape))\n"
      ],
      "execution_count": 30,
      "outputs": [
        {
          "output_type": "stream",
          "text": [
            "\n",
            " Shape of training set:(987, 2)\n",
            "\n",
            " Shape of validation set:(248, 2)\n"
          ],
          "name": "stdout"
        }
      ]
    },
    {
      "cell_type": "code",
      "metadata": {
        "id": "KRbf8sC5GWdH",
        "colab_type": "code",
        "colab": {
          "base_uri": "https://localhost:8080/",
          "height": 102
        },
        "outputId": "193c9ec5-132e-4882-d3bd-cc42814af87f"
      },
      "source": [
        "preds = []\n",
        "for i in range(0,valid.shape[0]):\n",
        "    a = train['Close'][len(train)-248+i:].sum() + sum(preds)\n",
        "    b = a/248\n",
        "    preds.append(b)\n",
        "preds[:5]"
      ],
      "execution_count": 31,
      "outputs": [
        {
          "output_type": "execute_result",
          "data": {
            "text/plain": [
              "[152.30645161290326,\n",
              " 152.31071149843913,\n",
              " 152.31337565770704,\n",
              " 152.3313731401978,\n",
              " 152.32787061253734]"
            ]
          },
          "metadata": {
            "tags": []
          },
          "execution_count": 31
        }
      ]
    },
    {
      "cell_type": "code",
      "metadata": {
        "id": "g-g_Cv7KHDXG",
        "colab_type": "code",
        "colab": {
          "base_uri": "https://localhost:8080/",
          "height": 68
        },
        "outputId": "fea73650-ed51-45f7-fec1-a74c3e2e7a46"
      },
      "source": [
        "rms=np.sqrt(np.mean(np.power((np.array(valid['Close'])-preds),2)))\n",
        "print('\\n RMSE value on validation set:')\n",
        "print(rms)"
      ],
      "execution_count": 32,
      "outputs": [
        {
          "output_type": "stream",
          "text": [
            "\n",
            " RMSE value on validation set:\n",
            "104.51415465984348\n"
          ],
          "name": "stdout"
        }
      ]
    },
    {
      "cell_type": "code",
      "metadata": {
        "id": "3tnPfM0CIfiH",
        "colab_type": "code",
        "colab": {
          "base_uri": "https://localhost:8080/",
          "height": 575
        },
        "outputId": "8c78c49c-97c5-43d7-f8b1-77dbf9589a73"
      },
      "source": [
        "valid['Predictions'] = 0\n",
        "valid['Predictions'] = preds\n",
        "plt.plot(train['Close'])\n",
        "plt.plot(valid[['Close', 'Predictions']])"
      ],
      "execution_count": 33,
      "outputs": [
        {
          "output_type": "stream",
          "text": [
            "/usr/local/lib/python3.6/dist-packages/ipykernel_launcher.py:1: SettingWithCopyWarning:\n",
            "\n",
            "\n",
            "A value is trying to be set on a copy of a slice from a DataFrame.\n",
            "Try using .loc[row_indexer,col_indexer] = value instead\n",
            "\n",
            "See the caveats in the documentation: http://pandas.pydata.org/pandas-docs/stable/indexing.html#indexing-view-versus-copy\n",
            "\n",
            "/usr/local/lib/python3.6/dist-packages/ipykernel_launcher.py:2: SettingWithCopyWarning:\n",
            "\n",
            "\n",
            "A value is trying to be set on a copy of a slice from a DataFrame.\n",
            "Try using .loc[row_indexer,col_indexer] = value instead\n",
            "\n",
            "See the caveats in the documentation: http://pandas.pydata.org/pandas-docs/stable/indexing.html#indexing-view-versus-copy\n",
            "\n"
          ],
          "name": "stderr"
        },
        {
          "output_type": "execute_result",
          "data": {
            "text/plain": [
              "[<matplotlib.lines.Line2D at 0x7f981f436828>,\n",
              " <matplotlib.lines.Line2D at 0x7f981f4369e8>]"
            ]
          },
          "metadata": {
            "tags": []
          },
          "execution_count": 33
        },
        {
          "output_type": "display_data",
          "data": {
            "image/png": "[encoded data removed]",
            "text/plain": [
              "<Figure size 432x288 with 1 Axes>"
            ]
          },
          "metadata": {
            "tags": []
          }
        }
      ]
    },
    {
      "cell_type": "markdown",
      "metadata": {
        "id": "LqL4FlCiJTTO",
        "colab_type": "text"
      },
      "source": [
        "##Linear Regression"
      ]
    },
    {
      "cell_type": "code",
      "metadata": {
        "id": "X6BjD86XLugo",
        "colab_type": "code",
        "colab": {
          "base_uri": "https://localhost:8080/",
          "height": 1000
        },
        "outputId": "5d6a99ae-8ab7-4d4a-a562-d5444e1efb78"
      },
      "source": [
        "!pip install fastai==0.7.0"
      ],
      "execution_count": 15,
      "outputs": [
        {
          "output_type": "stream",
          "text": [
            "Requirement already satisfied: fastai==0.7.0 in /usr/local/lib/python3.6/dist-packages (0.7.0)\n",
            "Requirement already satisfied: graphviz in /usr/local/lib/python3.6/dist-packages (from fastai==0.7.0) (0.10.1)\n",
            "Requirement already satisfied: PyYAML in /usr/local/lib/python3.6/dist-packages (from fastai==0.7.0) (3.13)\n",
            "Requirement already satisfied: traitlets in /usr/local/lib/python3.6/dist-packages (from fastai==0.7.0) (4.3.2)\n",
            "Requirement already satisfied: Jinja2 in /usr/local/lib/python3.6/dist-packages (from fastai==0.7.0) (2.10.1)\n",
            "Requirement already satisfied: numpy in /usr/local/lib/python3.6/dist-packages (from fastai==0.7.0) (1.16.5)\n",
            "Requirement already satisfied: seaborn in /usr/local/lib/python3.6/dist-packages (from fastai==0.7.0) (0.9.0)\n",
            "Requirement already satisfied: torchvision in /usr/local/lib/python3.6/dist-packages (from fastai==0.7.0) (0.4.0)\n",
            "Requirement already satisfied: feather-format in /usr/local/lib/python3.6/dist-packages (from fastai==0.7.0) (0.4.0)\n",
            "Requirement already satisfied: python-dateutil in /usr/local/lib/python3.6/dist-packages (from fastai==0.7.0) (2.5.3)\n",
            "Requirement already satisfied: ipython-genutils in /usr/local/lib/python3.6/dist-packages (from fastai==0.7.0) (0.2.0)\n",
            "Requirement already satisfied: opencv-python in /usr/local/lib/python3.6/dist-packages (from fastai==0.7.0) (3.4.7.28)\n",
            "Requirement already satisfied: webencodings in /usr/local/lib/python3.6/dist-packages (from fastai==0.7.0) (0.5.1)\n",
            "Requirement already satisfied: decorator in /usr/local/lib/python3.6/dist-packages (from fastai==0.7.0) (4.4.0)\n",
            "Requirement already satisfied: bleach in /usr/local/lib/python3.6/dist-packages (from fastai==0.7.0) (3.1.0)\n",
            "Requirement already satisfied: ipython in /usr/local/lib/python3.6/dist-packages (from fastai==0.7.0) (5.5.0)\n",
            "Requirement already satisfied: ipywidgets in /usr/local/lib/python3.6/dist-packages (from fastai==0.7.0) (7.5.1)\n",
            "Requirement already satisfied: jupyter in /usr/local/lib/python3.6/dist-packages (from fastai==0.7.0) (1.0.0)\n",
            "Requirement already satisfied: bcolz in /usr/local/lib/python3.6/dist-packages (from fastai==0.7.0) (1.2.1)\n",
            "Requirement already satisfied: cycler in /usr/local/lib/python3.6/dist-packages (from fastai==0.7.0) (0.10.0)\n",
            "Requirement already satisfied: widgetsnbextension in /usr/local/lib/python3.6/dist-packages (from fastai==0.7.0) (3.5.1)\n",
            "Requirement already satisfied: entrypoints in /usr/local/lib/python3.6/dist-packages (from fastai==0.7.0) (0.3)\n",
            "Requirement already satisfied: Pygments in /usr/local/lib/python3.6/dist-packages (from fastai==0.7.0) (2.1.3)\n",
            "Requirement already satisfied: sklearn-pandas in /usr/local/lib/python3.6/dist-packages (from fastai==0.7.0) (1.8.0)\n",
            "Requirement already satisfied: jsonschema in /usr/local/lib/python3.6/dist-packages (from fastai==0.7.0) (2.6.0)\n",
            "Requirement already satisfied: matplotlib in /usr/local/lib/python3.6/dist-packages (from fastai==0.7.0) (3.0.3)\n",
            "Requirement already satisfied: pyzmq in /usr/local/lib/python3.6/dist-packages (from fastai==0.7.0) (17.0.0)\n",
            "Requirement already satisfied: plotnine in /usr/local/lib/python3.6/dist-packages (from fastai==0.7.0) (0.5.1)\n",
            "Requirement already satisfied: Pillow in /usr/local/lib/python3.6/dist-packages (from fastai==0.7.0) (4.3.0)\n",
            "Requirement already satisfied: MarkupSafe in /usr/local/lib/python3.6/dist-packages (from fastai==0.7.0) (1.1.1)\n",
            "Requirement already satisfied: tornado in /usr/local/lib/python3.6/dist-packages (from fastai==0.7.0) (4.5.3)\n",
            "Requirement already satisfied: tqdm in /usr/local/lib/python3.6/dist-packages (from fastai==0.7.0) (4.28.1)\n",
            "Requirement already satisfied: pickleshare in /usr/local/lib/python3.6/dist-packages (from fastai==0.7.0) (0.7.5)\n",
            "Requirement already satisfied: scipy in /usr/local/lib/python3.6/dist-packages (from fastai==0.7.0) (1.3.1)\n",
            "Requirement already satisfied: simplegeneric in /usr/local/lib/python3.6/dist-packages (from fastai==0.7.0) (0.8.1)\n",
            "Requirement already satisfied: torchtext in /usr/local/lib/python3.6/dist-packages (from fastai==0.7.0) (0.3.1)\n",
            "Requirement already satisfied: isoweek in /usr/local/lib/python3.6/dist-packages (from fastai==0.7.0) (1.3.3)\n",
            "Requirement already satisfied: certifi in /usr/local/lib/python3.6/dist-packages (from fastai==0.7.0) (2019.9.11)\n",
            "Requirement already satisfied: pytz in /usr/local/lib/python3.6/dist-packages (from fastai==0.7.0) (2018.9)\n",
            "Requirement already satisfied: ipykernel in /usr/local/lib/python3.6/dist-packages (from fastai==0.7.0) (4.6.1)\n",
            "Requirement already satisfied: html5lib in /usr/local/lib/python3.6/dist-packages (from fastai==0.7.0) (1.0.1)\n",
            "Requirement already satisfied: ptyprocess in /usr/local/lib/python3.6/dist-packages (from fastai==0.7.0) (0.6.0)\n",
            "Requirement already satisfied: jedi in /usr/local/lib/python3.6/dist-packages (from fastai==0.7.0) (0.15.1)\n",
            "Requirement already satisfied: wcwidth in /usr/local/lib/python3.6/dist-packages (from fastai==0.7.0) (0.1.7)\n",
            "Requirement already satisfied: pandas in /usr/local/lib/python3.6/dist-packages (from fastai==0.7.0) (0.24.2)\n",
            "Requirement already satisfied: testpath in /usr/local/lib/python3.6/dist-packages (from fastai==0.7.0) (0.4.2)\n",
            "Requirement already satisfied: pyparsing in /usr/local/lib/python3.6/dist-packages (from fastai==0.7.0) (2.4.2)\n",
            "Requirement already satisfied: pandas-summary in /usr/local/lib/python3.6/dist-packages (from fastai==0.7.0) (0.0.7)\n",
            "Requirement already satisfied: torch<0.4 in /usr/local/lib/python3.6/dist-packages (from fastai==0.7.0) (0.3.1)\n",
            "Requirement already satisfied: six in /usr/local/lib/python3.6/dist-packages (from traitlets->fastai==0.7.0) (1.12.0)\n",
            "Requirement already satisfied: pyarrow>=0.4.0 in /usr/local/lib/python3.6/dist-packages (from feather-format->fastai==0.7.0) (0.14.1)\n",
            "Requirement already satisfied: pexpect; sys_platform != \"win32\" in /usr/local/lib/python3.6/dist-packages (from ipython->fastai==0.7.0) (4.7.0)\n",
            "Requirement already satisfied: setuptools>=18.5 in /usr/local/lib/python3.6/dist-packages (from ipython->fastai==0.7.0) (41.2.0)\n",
            "Requirement already satisfied: prompt-toolkit<2.0.0,>=1.0.4 in /usr/local/lib/python3.6/dist-packages (from ipython->fastai==0.7.0) (1.0.16)\n",
            "Requirement already satisfied: nbformat>=4.2.0 in /usr/local/lib/python3.6/dist-packages (from ipywidgets->fastai==0.7.0) (4.4.0)\n",
            "Requirement already satisfied: notebook in /usr/local/lib/python3.6/dist-packages (from jupyter->fastai==0.7.0) (5.2.2)\n",
            "Requirement already satisfied: nbconvert in /usr/local/lib/python3.6/dist-packages (from jupyter->fastai==0.7.0) (5.6.0)\n",
            "Requirement already satisfied: qtconsole in /usr/local/lib/python3.6/dist-packages (from jupyter->fastai==0.7.0) (4.5.5)\n",
            "Requirement already satisfied: jupyter-console in /usr/local/lib/python3.6/dist-packages (from jupyter->fastai==0.7.0) (5.2.0)\n",
            "Requirement already satisfied: scikit-learn>=0.15.0 in /usr/local/lib/python3.6/dist-packages (from sklearn-pandas->fastai==0.7.0) (0.21.3)\n",
            "Requirement already satisfied: kiwisolver>=1.0.1 in /usr/local/lib/python3.6/dist-packages (from matplotlib->fastai==0.7.0) (1.1.0)\n",
            "Requirement already satisfied: mizani>=0.5.2 in /usr/local/lib/python3.6/dist-packages (from plotnine->fastai==0.7.0) (0.5.4)\n",
            "Requirement already satisfied: statsmodels>=0.8.0 in /usr/local/lib/python3.6/dist-packages (from plotnine->fastai==0.7.0) (0.10.1)\n",
            "Requirement already satisfied: descartes>=1.1.0 in /usr/local/lib/python3.6/dist-packages (from plotnine->fastai==0.7.0) (1.1.0)\n",
            "Requirement already satisfied: patsy>=0.4.1 in /usr/local/lib/python3.6/dist-packages (from plotnine->fastai==0.7.0) (0.5.1)\n",
            "Requirement already satisfied: olefile in /usr/local/lib/python3.6/dist-packages (from Pillow->fastai==0.7.0) (0.46)\n",
            "Requirement already satisfied: requests in /usr/local/lib/python3.6/dist-packages (from torchtext->fastai==0.7.0) (2.21.0)\n",
            "Requirement already satisfied: jupyter-client in /usr/local/lib/python3.6/dist-packages (from ipykernel->fastai==0.7.0) (5.3.3)\n",
            "Requirement already satisfied: parso>=0.5.0 in /usr/local/lib/python3.6/dist-packages (from jedi->fastai==0.7.0) (0.5.1)\n",
            "Requirement already satisfied: jupyter-core in /usr/local/lib/python3.6/dist-packages (from nbformat>=4.2.0->ipywidgets->fastai==0.7.0) (4.5.0)\n",
            "Requirement already satisfied: terminado>=0.3.3; sys_platform != \"win32\" in /usr/local/lib/python3.6/dist-packages (from notebook->jupyter->fastai==0.7.0) (0.8.2)\n",
            "Requirement already satisfied: defusedxml in /usr/local/lib/python3.6/dist-packages (from nbconvert->jupyter->fastai==0.7.0) (0.6.0)\n",
            "Requirement already satisfied: mistune<2,>=0.8.1 in /usr/local/lib/python3.6/dist-packages (from nbconvert->jupyter->fastai==0.7.0) (0.8.4)\n",
            "Requirement already satisfied: pandocfilters>=1.4.1 in /usr/local/lib/python3.6/dist-packages (from nbconvert->jupyter->fastai==0.7.0) (1.4.2)\n",
            "Requirement already satisfied: joblib>=0.11 in /usr/local/lib/python3.6/dist-packages (from scikit-learn>=0.15.0->sklearn-pandas->fastai==0.7.0) (0.13.2)\n",
            "Requirement already satisfied: palettable in /usr/local/lib/python3.6/dist-packages (from mizani>=0.5.2->plotnine->fastai==0.7.0) (3.3.0)\n",
            "Requirement already satisfied: chardet<3.1.0,>=3.0.2 in /usr/local/lib/python3.6/dist-packages (from requests->torchtext->fastai==0.7.0) (3.0.4)\n",
            "Requirement already satisfied: urllib3<1.25,>=1.21.1 in /usr/local/lib/python3.6/dist-packages (from requests->torchtext->fastai==0.7.0) (1.24.3)\n",
            "Requirement already satisfied: idna<2.9,>=2.5 in /usr/local/lib/python3.6/dist-packages (from requests->torchtext->fastai==0.7.0) (2.8)\n"
          ],
          "name": "stdout"
        }
      ]
    },
    {
      "cell_type": "code",
      "metadata": {
        "id": "PDVjzt1CJVxv",
        "colab_type": "code",
        "colab": {}
      },
      "source": [
        "from fastai.structured import  add_datepart\n",
        "add_datepart(new_data, 'Date')"
      ],
      "execution_count": 0,
      "outputs": []
    },
    {
      "cell_type": "code",
      "metadata": {
        "id": "TJ-6-VihLiKv",
        "colab_type": "code",
        "colab": {
          "base_uri": "https://localhost:8080/",
          "height": 204
        },
        "outputId": "9a0736ef-8471-4a4c-fe46-d2af0d0d0f4e"
      },
      "source": [
        "new_data.head()"
      ],
      "execution_count": 17,
      "outputs": [
        {
          "output_type": "execute_result",
          "data": {
            "text/html": [
              "<div>\n",
              "<style scoped>\n",
              "    .dataframe tbody tr th:only-of-type {\n",
              "        vertical-align: middle;\n",
              "    }\n",
              "\n",
              "    .dataframe tbody tr th {\n",
              "        vertical-align: top;\n",
              "    }\n",
              "\n",
              "    .dataframe thead th {\n",
              "        text-align: right;\n",
              "    }\n",
              "</style>\n",
              "<table border=\"1\" class=\"dataframe\">\n",
              "  <thead>\n",
              "    <tr style=\"text-align: right;\">\n",
              "      <th></th>\n",
              "      <th>Close</th>\n",
              "      <th>Year</th>\n",
              "      <th>Month</th>\n",
              "      <th>Week</th>\n",
              "      <th>Day</th>\n",
              "      <th>Dayofweek</th>\n",
              "      <th>Dayofyear</th>\n",
              "      <th>Is_month_end</th>\n",
              "      <th>Is_month_start</th>\n",
              "      <th>Is_quarter_end</th>\n",
              "      <th>Is_quarter_start</th>\n",
              "      <th>Is_year_end</th>\n",
              "      <th>Is_year_start</th>\n",
              "      <th>Elapsed</th>\n",
              "    </tr>\n",
              "  </thead>\n",
              "  <tbody>\n",
              "    <tr>\n",
              "      <th>0</th>\n",
              "      <td>155.8</td>\n",
              "      <td>2013</td>\n",
              "      <td>10</td>\n",
              "      <td>41</td>\n",
              "      <td>8</td>\n",
              "      <td>1</td>\n",
              "      <td>281</td>\n",
              "      <td>False</td>\n",
              "      <td>False</td>\n",
              "      <td>False</td>\n",
              "      <td>False</td>\n",
              "      <td>False</td>\n",
              "      <td>False</td>\n",
              "      <td>1381190400</td>\n",
              "    </tr>\n",
              "    <tr>\n",
              "      <th>1</th>\n",
              "      <td>155.55</td>\n",
              "      <td>2013</td>\n",
              "      <td>10</td>\n",
              "      <td>41</td>\n",
              "      <td>9</td>\n",
              "      <td>2</td>\n",
              "      <td>282</td>\n",
              "      <td>False</td>\n",
              "      <td>False</td>\n",
              "      <td>False</td>\n",
              "      <td>False</td>\n",
              "      <td>False</td>\n",
              "      <td>False</td>\n",
              "      <td>1381276800</td>\n",
              "    </tr>\n",
              "    <tr>\n",
              "      <th>2</th>\n",
              "      <td>160.15</td>\n",
              "      <td>2013</td>\n",
              "      <td>10</td>\n",
              "      <td>41</td>\n",
              "      <td>10</td>\n",
              "      <td>3</td>\n",
              "      <td>283</td>\n",
              "      <td>False</td>\n",
              "      <td>False</td>\n",
              "      <td>False</td>\n",
              "      <td>False</td>\n",
              "      <td>False</td>\n",
              "      <td>False</td>\n",
              "      <td>1381363200</td>\n",
              "    </tr>\n",
              "    <tr>\n",
              "      <th>3</th>\n",
              "      <td>160.05</td>\n",
              "      <td>2013</td>\n",
              "      <td>10</td>\n",
              "      <td>41</td>\n",
              "      <td>11</td>\n",
              "      <td>4</td>\n",
              "      <td>284</td>\n",
              "      <td>False</td>\n",
              "      <td>False</td>\n",
              "      <td>False</td>\n",
              "      <td>False</td>\n",
              "      <td>False</td>\n",
              "      <td>False</td>\n",
              "      <td>1381449600</td>\n",
              "    </tr>\n",
              "    <tr>\n",
              "      <th>4</th>\n",
              "      <td>159.45</td>\n",
              "      <td>2013</td>\n",
              "      <td>10</td>\n",
              "      <td>42</td>\n",
              "      <td>14</td>\n",
              "      <td>0</td>\n",
              "      <td>287</td>\n",
              "      <td>False</td>\n",
              "      <td>False</td>\n",
              "      <td>False</td>\n",
              "      <td>False</td>\n",
              "      <td>False</td>\n",
              "      <td>False</td>\n",
              "      <td>1381708800</td>\n",
              "    </tr>\n",
              "  </tbody>\n",
              "</table>\n",
              "</div>"
            ],
            "text/plain": [
              "    Close  Year  Month  ...  Is_year_end  Is_year_start     Elapsed\n",
              "0   155.8  2013     10  ...        False          False  1381190400\n",
              "1  155.55  2013     10  ...        False          False  1381276800\n",
              "2  160.15  2013     10  ...        False          False  1381363200\n",
              "3  160.05  2013     10  ...        False          False  1381449600\n",
              "4  159.45  2013     10  ...        False          False  1381708800\n",
              "\n",
              "[5 rows x 14 columns]"
            ]
          },
          "metadata": {
            "tags": []
          },
          "execution_count": 17
        }
      ]
    },
    {
      "cell_type": "code",
      "metadata": {
        "id": "JiTIU8m_OZVo",
        "colab_type": "code",
        "colab": {}
      },
      "source": [
        "new_data.drop('Elapsed',axis=1,inplace=True)\n"
      ],
      "execution_count": 0,
      "outputs": []
    },
    {
      "cell_type": "code",
      "metadata": {
        "id": "Q1InbSmROq3F",
        "colab_type": "code",
        "colab": {
          "base_uri": "https://localhost:8080/",
          "height": 187
        },
        "outputId": "07dea8cf-94dd-4362-d537-ddcbd6010c94"
      },
      "source": [
        "new_data['Mon-Fri']=0\n",
        "for i in range(0,len(new_data)):\n",
        "  if(new_data['Dayofweek'][i]==0 or new_data['Dayofweek'][i]==4):\n",
        "    new_data['Mon-Fri'][i]=1\n",
        "  else:\n",
        "    new_data['Mon-Fri'][i]=0\n"
      ],
      "execution_count": 0,
      "outputs": [
        {
          "output_type": "stream",
          "text": [
            "/usr/local/lib/python3.6/dist-packages/ipykernel_launcher.py:6: SettingWithCopyWarning: \n",
            "A value is trying to be set on a copy of a slice from a DataFrame\n",
            "\n",
            "See the caveats in the documentation: http://pandas.pydata.org/pandas-docs/stable/indexing.html#indexing-view-versus-copy\n",
            "  \n",
            "/usr/local/lib/python3.6/dist-packages/ipykernel_launcher.py:4: SettingWithCopyWarning: \n",
            "A value is trying to be set on a copy of a slice from a DataFrame\n",
            "\n",
            "See the caveats in the documentation: http://pandas.pydata.org/pandas-docs/stable/indexing.html#indexing-view-versus-copy\n",
            "  after removing the cwd from sys.path.\n"
          ],
          "name": "stderr"
        }
      ]
    },
    {
      "cell_type": "code",
      "metadata": {
        "id": "kjN0sacSTzzd",
        "colab_type": "code",
        "colab": {}
      },
      "source": [
        "train_set = new_data[:987]\n",
        "valid_set = new_data[987:]"
      ],
      "execution_count": 0,
      "outputs": []
    },
    {
      "cell_type": "code",
      "metadata": {
        "id": "tMsG1q_-PTxw",
        "colab_type": "code",
        "colab": {}
      },
      "source": [
        "x_train=train_set.drop('Close',axis=1)\n",
        "y_train=train_set['Close']\n",
        "x_valid=valid_set.drop('Close',axis=1)\n",
        "y_valid=valid_set['Close']"
      ],
      "execution_count": 0,
      "outputs": []
    },
    {
      "cell_type": "code",
      "metadata": {
        "id": "uibfNtg2QqPZ",
        "colab_type": "code",
        "colab": {}
      },
      "source": [
        "from sklearn.linear_model import LinearRegression"
      ],
      "execution_count": 0,
      "outputs": []
    },
    {
      "cell_type": "code",
      "metadata": {
        "id": "0H_I19n7SNkJ",
        "colab_type": "code",
        "colab": {}
      },
      "source": [
        "model=LinearRegression()\n"
      ],
      "execution_count": 0,
      "outputs": []
    },
    {
      "cell_type": "code",
      "metadata": {
        "id": "i5LcKOIJSW5u",
        "colab_type": "code",
        "colab": {}
      },
      "source": [
        "model.fit(x_train,y_train)"
      ],
      "execution_count": 0,
      "outputs": []
    },
    {
      "cell_type": "code",
      "metadata": {
        "id": "a_wYfwbDSaQu",
        "colab_type": "code",
        "colab": {}
      },
      "source": [
        "predic=model.predict(x_valid)"
      ],
      "execution_count": 0,
      "outputs": []
    },
    {
      "cell_type": "code",
      "metadata": {
        "id": "ctSgOHWPUQXn",
        "colab_type": "code",
        "colab": {}
      },
      "source": [
        "rms=np.sqrt(np.mean(np.power((np.array(y_valid)-np.array(predic)),2)))\n",
        "print('\\n RMSE value on validation set:')\n",
        "print(rms)"
      ],
      "execution_count": 0,
      "outputs": []
    },
    {
      "cell_type": "code",
      "metadata": {
        "id": "lAFDislJUmNO",
        "colab_type": "code",
        "colab": {}
      },
      "source": [
        "valid['Predictions'] = 0\n",
        "valid['Predictions'] = predic\n",
        "\n",
        "plt.plot(train['Close'])\n",
        "plt.plot(valid[['Close', 'Predictions']])"
      ],
      "execution_count": 0,
      "outputs": []
    },
    {
      "cell_type": "code",
      "metadata": {
        "id": "yJNbVx5XVU2B",
        "colab_type": "code",
        "colab": {}
      },
      "source": [
        ""
      ],
      "execution_count": 0,
      "outputs": []
    },
    {
      "cell_type": "markdown",
      "metadata": {
        "id": "I3f2ARAYVvhT",
        "colab_type": "text"
      },
      "source": [
        "##K-Nearest Neighbor"
      ]
    },
    {
      "cell_type": "code",
      "metadata": {
        "id": "7m7AapE6VycO",
        "colab_type": "code",
        "colab": {}
      },
      "source": [
        "from sklearn import neighbors\n",
        "from sklearn.model_selection import GridSearchCV\n",
        "from sklearn.preprocessing import MinMaxScaler\n",
        "scaler = MinMaxScaler(feature_range=(0, 1))"
      ],
      "execution_count": 0,
      "outputs": []
    },
    {
      "cell_type": "code",
      "metadata": {
        "id": "wuRuBCIGWjT6",
        "colab_type": "code",
        "colab": {}
      },
      "source": [
        "x_train_scaled = scaler.fit_transform(x_train)\n",
        "x_train = pd.DataFrame(x_train_scaled)\n",
        "x_valid_scaled = scaler.fit_transform(x_valid)\n",
        "x_valid = pd.DataFrame(x_valid_scaled)"
      ],
      "execution_count": 0,
      "outputs": []
    },
    {
      "cell_type": "code",
      "metadata": {
        "id": "b7ExPpFvWqdn",
        "colab_type": "code",
        "colab": {}
      },
      "source": [
        "params = {'n_neighbors':[2,3,4,5,6,7,8,9]}\n",
        "knn = neighbors.KNeighborsRegressor()\n",
        "model = GridSearchCV(knn, params, cv=5)\n"
      ],
      "execution_count": 0,
      "outputs": []
    },
    {
      "cell_type": "code",
      "metadata": {
        "id": "JsuFTKjFW7Ka",
        "colab_type": "code",
        "colab": {}
      },
      "source": [
        "model.fit(x_train,y_train)\n",
        "predics = model.predict(x_valid)"
      ],
      "execution_count": 0,
      "outputs": []
    },
    {
      "cell_type": "code",
      "metadata": {
        "id": "9u_cl1JxXDkf",
        "colab_type": "code",
        "colab": {}
      },
      "source": [
        "rms=np.sqrt(np.mean(np.power((np.array(y_valid)-np.array(preds)),2)))\n",
        "rms"
      ],
      "execution_count": 0,
      "outputs": []
    },
    {
      "cell_type": "code",
      "metadata": {
        "id": "Jy1j9VNGXOQs",
        "colab_type": "code",
        "colab": {}
      },
      "source": [
        "valid['Predictions'] = 0\n",
        "valid['Predictions'] = predics\n",
        "plt.plot(valid[['Close', 'Predictions']])\n",
        "plt.plot(train['Close'])"
      ],
      "execution_count": 0,
      "outputs": []
    },
    {
      "cell_type": "markdown",
      "metadata": {
        "id": "vvA-ADxmXfsY",
        "colab_type": "text"
      },
      "source": [
        "##Auto ARIMA"
      ]
    },
    {
      "cell_type": "code",
      "metadata": {
        "id": "alZANF5MafvP",
        "colab_type": "code",
        "colab": {
          "base_uri": "https://localhost:8080/",
          "height": 375
        },
        "outputId": "81e22130-fb47-442e-c331-d71d763ac533"
      },
      "source": [
        "pip install pyramid-arima"
      ],
      "execution_count": 89,
      "outputs": [
        {
          "output_type": "stream",
          "text": [
            "Collecting pyramid-arima\n",
            "\u001b[?25l  Downloading https://files.pythonhosted.org/packages/5c/84/57422f2a6ade3161c586545e38b518ba1b7ab30ee4a4acc29110c0aba2bc/pyramid_arima-0.9.0-cp36-cp36m-manylinux1_x86_64.whl (597kB)\n",
            "\u001b[K     |████████████████████████████████| 604kB 9.2MB/s \n",
            "\u001b[?25hRequirement already satisfied: statsmodels>=0.9.0 in /usr/local/lib/python3.6/dist-packages (from pyramid-arima) (0.10.1)\n",
            "Requirement already satisfied: scipy>=0.9 in /usr/local/lib/python3.6/dist-packages (from pyramid-arima) (1.3.1)\n",
            "Requirement already satisfied: numpy>=1.10 in /usr/local/lib/python3.6/dist-packages (from pyramid-arima) (1.16.5)\n",
            "Requirement already satisfied: Cython>=0.23 in /usr/local/lib/python3.6/dist-packages (from pyramid-arima) (0.29.13)\n",
            "Requirement already satisfied: pandas>=0.19 in /usr/local/lib/python3.6/dist-packages (from pyramid-arima) (0.24.2)\n",
            "Requirement already satisfied: scikit-learn>=0.17 in /usr/local/lib/python3.6/dist-packages (from pyramid-arima) (0.21.3)\n",
            "Requirement already satisfied: patsy>=0.4.0 in /usr/local/lib/python3.6/dist-packages (from statsmodels>=0.9.0->pyramid-arima) (0.5.1)\n",
            "Requirement already satisfied: python-dateutil>=2.5.0 in /usr/local/lib/python3.6/dist-packages (from pandas>=0.19->pyramid-arima) (2.5.3)\n",
            "Requirement already satisfied: pytz>=2011k in /usr/local/lib/python3.6/dist-packages (from pandas>=0.19->pyramid-arima) (2018.9)\n",
            "Requirement already satisfied: joblib>=0.11 in /usr/local/lib/python3.6/dist-packages (from scikit-learn>=0.17->pyramid-arima) (0.13.2)\n",
            "Requirement already satisfied: six in /usr/local/lib/python3.6/dist-packages (from patsy>=0.4.0->statsmodels>=0.9.0->pyramid-arima) (1.12.0)\n",
            "Installing collected packages: pyramid-arima\n",
            "Successfully installed pyramid-arima-0.9.0\n"
          ],
          "name": "stdout"
        },
        {
          "output_type": "display_data",
          "data": {
            "application/vnd.colab-display-data+json": {
              "pip_warning": {
                "packages": [
                  "pyramid"
                ]
              }
            }
          },
          "metadata": {
            "tags": []
          }
        }
      ]
    },
    {
      "cell_type": "code",
      "metadata": {
        "id": "EXDMTi36XgQv",
        "colab_type": "code",
        "colab": {
          "base_uri": "https://localhost:8080/",
          "height": 309
        },
        "outputId": "e07cc5f2-8f27-4851-f068-983d297727d6"
      },
      "source": [
        "from pyramid.arima import auto_arima"
      ],
      "execution_count": 8,
      "outputs": [
        {
          "output_type": "stream",
          "text": [
            "/usr/local/lib/python3.6/dist-packages/sklearn/externals/six.py:31: DeprecationWarning: The module is deprecated in version 0.21 and will be removed in version 0.23 since we've dropped support for Python 2.7. Please rely on the official version of six (https://pypi.org/project/six/).\n",
            "  \"(https://pypi.org/project/six/).\", DeprecationWarning)\n",
            "/usr/local/lib/python3.6/dist-packages/sklearn/externals/joblib/__init__.py:15: DeprecationWarning: sklearn.externals.joblib is deprecated in 0.21 and will be removed in 0.23. Please import this functionality directly from joblib, which can be installed with: pip install joblib. If this warning is raised when loading pickled models, you may need to re-serialize those models with scikit-learn 0.21+.\n",
            "  warnings.warn(msg, category=DeprecationWarning)\n",
            "/usr/local/lib/python3.6/dist-packages/pyramid/__init__.py:68: UserWarning: \n",
            "    The 'pyramid' package will be migrating to a new namespace beginning in \n",
            "    version 1.0.0: 'pmdarima'. This is due to a package name collision with the\n",
            "    Pyramid web framework. For more information, see Issue #34:\n",
            "    \n",
            "        https://github.com/tgsmith61591/pyramid/issues/34\n",
            "        \n",
            "    The package will subsequently be installable via the name 'pmdarima'; the\n",
            "    only functional change to the user will be the import name. All imports\n",
            "    from 'pyramid' will change to 'pmdarima'.\n",
            "    \n",
            "  \"\"\", UserWarning)\n"
          ],
          "name": "stderr"
        }
      ]
    },
    {
      "cell_type": "code",
      "metadata": {
        "id": "15_BrttWaYRo",
        "colab_type": "code",
        "colab": {
          "base_uri": "https://localhost:8080/",
          "height": 235
        },
        "outputId": "c4567f78-0514-4383-97f9-8a1c1a83e2a5"
      },
      "source": [
        "data=df.sort_index(ascending=True,axis=0)\n",
        "data.head()"
      ],
      "execution_count": 10,
      "outputs": [
        {
          "output_type": "execute_result",
          "data": {
            "text/html": [
              "<div>\n",
              "<style scoped>\n",
              "    .dataframe tbody tr th:only-of-type {\n",
              "        vertical-align: middle;\n",
              "    }\n",
              "\n",
              "    .dataframe tbody tr th {\n",
              "        vertical-align: top;\n",
              "    }\n",
              "\n",
              "    .dataframe thead th {\n",
              "        text-align: right;\n",
              "    }\n",
              "</style>\n",
              "<table border=\"1\" class=\"dataframe\">\n",
              "  <thead>\n",
              "    <tr style=\"text-align: right;\">\n",
              "      <th></th>\n",
              "      <th>Date</th>\n",
              "      <th>Open</th>\n",
              "      <th>High</th>\n",
              "      <th>Low</th>\n",
              "      <th>Last</th>\n",
              "      <th>Close</th>\n",
              "      <th>Total Trade Quantity</th>\n",
              "      <th>Turnover (Lacs)</th>\n",
              "    </tr>\n",
              "    <tr>\n",
              "      <th>Date</th>\n",
              "      <th></th>\n",
              "      <th></th>\n",
              "      <th></th>\n",
              "      <th></th>\n",
              "      <th></th>\n",
              "      <th></th>\n",
              "      <th></th>\n",
              "      <th></th>\n",
              "    </tr>\n",
              "  </thead>\n",
              "  <tbody>\n",
              "    <tr>\n",
              "      <th>2013-10-08</th>\n",
              "      <td>2013-10-08</td>\n",
              "      <td>157.00</td>\n",
              "      <td>157.80</td>\n",
              "      <td>155.20</td>\n",
              "      <td>155.8</td>\n",
              "      <td>155.80</td>\n",
              "      <td>1720413.0</td>\n",
              "      <td>2688.94</td>\n",
              "    </tr>\n",
              "    <tr>\n",
              "      <th>2013-10-09</th>\n",
              "      <td>2013-10-09</td>\n",
              "      <td>155.70</td>\n",
              "      <td>158.20</td>\n",
              "      <td>154.15</td>\n",
              "      <td>155.3</td>\n",
              "      <td>155.55</td>\n",
              "      <td>2049580.0</td>\n",
              "      <td>3204.49</td>\n",
              "    </tr>\n",
              "    <tr>\n",
              "      <th>2013-10-10</th>\n",
              "      <td>2013-10-10</td>\n",
              "      <td>156.00</td>\n",
              "      <td>160.80</td>\n",
              "      <td>155.85</td>\n",
              "      <td>160.3</td>\n",
              "      <td>160.15</td>\n",
              "      <td>3124853.0</td>\n",
              "      <td>4978.80</td>\n",
              "    </tr>\n",
              "    <tr>\n",
              "      <th>2013-10-11</th>\n",
              "      <td>2013-10-11</td>\n",
              "      <td>161.15</td>\n",
              "      <td>163.45</td>\n",
              "      <td>159.00</td>\n",
              "      <td>159.8</td>\n",
              "      <td>160.05</td>\n",
              "      <td>1880046.0</td>\n",
              "      <td>3030.76</td>\n",
              "    </tr>\n",
              "    <tr>\n",
              "      <th>2013-10-14</th>\n",
              "      <td>2013-10-14</td>\n",
              "      <td>160.85</td>\n",
              "      <td>161.45</td>\n",
              "      <td>157.70</td>\n",
              "      <td>159.3</td>\n",
              "      <td>159.45</td>\n",
              "      <td>1281419.0</td>\n",
              "      <td>2039.09</td>\n",
              "    </tr>\n",
              "  </tbody>\n",
              "</table>\n",
              "</div>"
            ],
            "text/plain": [
              "                 Date    Open  ...  Total Trade Quantity  Turnover (Lacs)\n",
              "Date                           ...                                       \n",
              "2013-10-08 2013-10-08  157.00  ...             1720413.0          2688.94\n",
              "2013-10-09 2013-10-09  155.70  ...             2049580.0          3204.49\n",
              "2013-10-10 2013-10-10  156.00  ...             3124853.0          4978.80\n",
              "2013-10-11 2013-10-11  161.15  ...             1880046.0          3030.76\n",
              "2013-10-14 2013-10-14  160.85  ...             1281419.0          2039.09\n",
              "\n",
              "[5 rows x 8 columns]"
            ]
          },
          "metadata": {
            "tags": []
          },
          "execution_count": 10
        }
      ]
    },
    {
      "cell_type": "code",
      "metadata": {
        "id": "znLtVzfQbdvb",
        "colab_type": "code",
        "colab": {}
      },
      "source": [
        "train = data[:987]\n",
        "valid = data[987:]"
      ],
      "execution_count": 0,
      "outputs": []
    },
    {
      "cell_type": "code",
      "metadata": {
        "id": "qzOrJxV_b21z",
        "colab_type": "code",
        "colab": {}
      },
      "source": [
        "training = train['Close']\n",
        "validation = valid['Close']"
      ],
      "execution_count": 0,
      "outputs": []
    },
    {
      "cell_type": "code",
      "metadata": {
        "id": "-0L6sEogbmbm",
        "colab_type": "code",
        "colab": {
          "base_uri": "https://localhost:8080/",
          "height": 391
        },
        "outputId": "627a1e5d-9b3f-493c-8107-c33f020f6e52"
      },
      "source": [
        "model = auto_arima(training, start_p=1, start_q=1,max_p=3, max_q=3, m=12,start_P=0, seasonal=True,d=1, D=1, trace=True,error_action='ignore',suppress_warnings=True)\n",
        "model.fit(training)"
      ],
      "execution_count": 14,
      "outputs": [
        {
          "output_type": "stream",
          "text": [
            "Fit ARIMA: order=(1, 1, 1) seasonal_order=(0, 1, 1, 12); AIC=4820.561, BIC=4844.968, Fit time=11.816 seconds\n",
            "Fit ARIMA: order=(0, 1, 0) seasonal_order=(0, 1, 0, 12); AIC=5479.245, BIC=5489.008, Fit time=0.104 seconds\n",
            "Fit ARIMA: order=(1, 1, 0) seasonal_order=(1, 1, 0, 12); AIC=5170.275, BIC=5189.801, Fit time=2.472 seconds\n",
            "Fit ARIMA: order=(0, 1, 1) seasonal_order=(0, 1, 1, 12); AIC=4818.529, BIC=4838.055, Fit time=8.585 seconds\n",
            "Fit ARIMA: order=(0, 1, 1) seasonal_order=(1, 1, 1, 12); AIC=4816.433, BIC=4840.840, Fit time=6.941 seconds\n",
            "Fit ARIMA: order=(0, 1, 1) seasonal_order=(1, 1, 0, 12); AIC=5170.276, BIC=5189.801, Fit time=2.323 seconds\n",
            "Fit ARIMA: order=(0, 1, 1) seasonal_order=(1, 1, 2, 12); AIC=4818.340, BIC=4847.629, Fit time=32.441 seconds\n",
            "Fit ARIMA: order=(0, 1, 1) seasonal_order=(0, 1, 0, 12); AIC=5481.156, BIC=5495.800, Fit time=0.555 seconds\n",
            "Fit ARIMA: order=(0, 1, 1) seasonal_order=(2, 1, 2, 12); AIC=4818.627, BIC=4852.797, Fit time=26.294 seconds\n",
            "Fit ARIMA: order=(1, 1, 1) seasonal_order=(1, 1, 1, 12); AIC=4817.329, BIC=4846.617, Fit time=16.390 seconds\n",
            "Fit ARIMA: order=(0, 1, 0) seasonal_order=(1, 1, 1, 12); AIC=4814.454, BIC=4833.979, Fit time=4.777 seconds\n",
            "Fit ARIMA: order=(0, 1, 0) seasonal_order=(0, 1, 1, 12); AIC=4816.565, BIC=4831.210, Fit time=7.590 seconds\n",
            "Fit ARIMA: order=(0, 1, 0) seasonal_order=(2, 1, 1, 12); AIC=4816.450, BIC=4840.857, Fit time=14.226 seconds\n",
            "Fit ARIMA: order=(0, 1, 0) seasonal_order=(1, 1, 0, 12); AIC=5168.277, BIC=5182.921, Fit time=1.675 seconds\n",
            "Fit ARIMA: order=(0, 1, 0) seasonal_order=(1, 1, 2, 12); AIC=4816.368, BIC=4840.775, Fit time=14.804 seconds\n",
            "Fit ARIMA: order=(0, 1, 0) seasonal_order=(2, 1, 2, 12); AIC=4816.631, BIC=4845.919, Fit time=17.394 seconds\n",
            "Fit ARIMA: order=(1, 1, 0) seasonal_order=(1, 1, 1, 12); AIC=4816.432, BIC=4840.839, Fit time=5.963 seconds\n",
            "Total fit time: 174.361 seconds\n"
          ],
          "name": "stdout"
        },
        {
          "output_type": "execute_result",
          "data": {
            "text/plain": [
              "ARIMA(callback=None, disp=0, maxiter=50, method=None, order=(0, 1, 0),\n",
              "      out_of_sample_size=0, scoring='mse', scoring_args={},\n",
              "      seasonal_order=(1, 1, 1, 12), solver='lbfgs', start_params=None,\n",
              "      suppress_warnings=True, transparams=True, trend='c')"
            ]
          },
          "metadata": {
            "tags": []
          },
          "execution_count": 14
        }
      ]
    },
    {
      "cell_type": "code",
      "metadata": {
        "id": "Gn-fU_2fbzjP",
        "colab_type": "code",
        "colab": {}
      },
      "source": [
        "\n",
        "forecast = model.predict(n_periods=248)\n",
        "forecast = pd.DataFrame(forecast,index = valid.index,columns=['Prediction'])"
      ],
      "execution_count": 0,
      "outputs": []
    },
    {
      "cell_type": "code",
      "metadata": {
        "id": "bPQHxWk6cvPT",
        "colab_type": "code",
        "colab": {
          "base_uri": "https://localhost:8080/",
          "height": 34
        },
        "outputId": "e20fa1f7-732d-464f-c0d8-a167c01abf08"
      },
      "source": [
        "rms=np.sqrt(np.mean(np.power((np.array(valid['Close'])-np.array(forecast['Prediction'])),2)))\n",
        "rms"
      ],
      "execution_count": 16,
      "outputs": [
        {
          "output_type": "execute_result",
          "data": {
            "text/plain": [
              "44.95299520683571"
            ]
          },
          "metadata": {
            "tags": []
          },
          "execution_count": 16
        }
      ]
    },
    {
      "cell_type": "code",
      "metadata": {
        "id": "FRQjHfZicylO",
        "colab_type": "code",
        "colab": {
          "base_uri": "https://localhost:8080/",
          "height": 286
        },
        "outputId": "37c1d87e-d0a2-4525-d560-c0566849c9ac"
      },
      "source": [
        "plt.plot(train['Close'])\n",
        "plt.plot(valid['Close'])\n",
        "plt.plot(forecast['Prediction'])"
      ],
      "execution_count": 17,
      "outputs": [
        {
          "output_type": "execute_result",
          "data": {
            "text/plain": [
              "[<matplotlib.lines.Line2D at 0x7f9823226390>]"
            ]
          },
          "metadata": {
            "tags": []
          },
          "execution_count": 17
        },
        {
          "output_type": "display_data",
          "data": {
            "image/png": "[encoded data removed]",
            "text/plain": [
              "<Figure size 432x288 with 1 Axes>"
            ]
          },
          "metadata": {
            "tags": []
          }
        }
      ]
    },
    {
      "cell_type": "code",
      "metadata": {
        "id": "28PbFZ9Bc4sn",
        "colab_type": "code",
        "colab": {}
      },
      "source": [
        ""
      ],
      "execution_count": 0,
      "outputs": []
    },
    {
      "cell_type": "markdown",
      "metadata": {
        "id": "rgxzsjhPdG4n",
        "colab_type": "text"
      },
      "source": [
        "##Prophet"
      ]
    },
    {
      "cell_type": "code",
      "metadata": {
        "id": "praF1LsQdJKA",
        "colab_type": "code",
        "colab": {}
      },
      "source": [
        "from fbprophet import Prophet"
      ],
      "execution_count": 0,
      "outputs": []
    },
    {
      "cell_type": "code",
      "metadata": {
        "id": "JmNt2YO9ecbO",
        "colab_type": "code",
        "colab": {}
      },
      "source": [
        "new_data = pd.DataFrame(index=range(0,len(df)),columns=['Date', 'Close'])\n",
        "\n",
        "for i in range(0,len(data)):\n",
        "    new_data['Date'][i] = data['Date'][i]\n",
        "    new_data['Close'][i] = data['Close'][i]"
      ],
      "execution_count": 0,
      "outputs": []
    },
    {
      "cell_type": "code",
      "metadata": {
        "id": "oqEVT_mMelA2",
        "colab_type": "code",
        "colab": {
          "base_uri": "https://localhost:8080/",
          "height": 235
        },
        "outputId": "d138f52e-aca5-4466-ef2b-925bd1d89bfe"
      },
      "source": [
        "new_data['Date'] = pd.to_datetime(new_data.Date,format='%Y-%m-%d')\n",
        "new_data.index = new_data['Date']\n",
        "new_data.head()"
      ],
      "execution_count": 36,
      "outputs": [
        {
          "output_type": "execute_result",
          "data": {
            "text/html": [
              "<div>\n",
              "<style scoped>\n",
              "    .dataframe tbody tr th:only-of-type {\n",
              "        vertical-align: middle;\n",
              "    }\n",
              "\n",
              "    .dataframe tbody tr th {\n",
              "        vertical-align: top;\n",
              "    }\n",
              "\n",
              "    .dataframe thead th {\n",
              "        text-align: right;\n",
              "    }\n",
              "</style>\n",
              "<table border=\"1\" class=\"dataframe\">\n",
              "  <thead>\n",
              "    <tr style=\"text-align: right;\">\n",
              "      <th></th>\n",
              "      <th>Date</th>\n",
              "      <th>Close</th>\n",
              "    </tr>\n",
              "    <tr>\n",
              "      <th>Date</th>\n",
              "      <th></th>\n",
              "      <th></th>\n",
              "    </tr>\n",
              "  </thead>\n",
              "  <tbody>\n",
              "    <tr>\n",
              "      <th>2013-10-08</th>\n",
              "      <td>2013-10-08</td>\n",
              "      <td>155.8</td>\n",
              "    </tr>\n",
              "    <tr>\n",
              "      <th>2013-10-09</th>\n",
              "      <td>2013-10-09</td>\n",
              "      <td>155.55</td>\n",
              "    </tr>\n",
              "    <tr>\n",
              "      <th>2013-10-10</th>\n",
              "      <td>2013-10-10</td>\n",
              "      <td>160.15</td>\n",
              "    </tr>\n",
              "    <tr>\n",
              "      <th>2013-10-11</th>\n",
              "      <td>2013-10-11</td>\n",
              "      <td>160.05</td>\n",
              "    </tr>\n",
              "    <tr>\n",
              "      <th>2013-10-14</th>\n",
              "      <td>2013-10-14</td>\n",
              "      <td>159.45</td>\n",
              "    </tr>\n",
              "  </tbody>\n",
              "</table>\n",
              "</div>"
            ],
            "text/plain": [
              "                 Date   Close\n",
              "Date                         \n",
              "2013-10-08 2013-10-08   155.8\n",
              "2013-10-09 2013-10-09  155.55\n",
              "2013-10-10 2013-10-10  160.15\n",
              "2013-10-11 2013-10-11  160.05\n",
              "2013-10-14 2013-10-14  159.45"
            ]
          },
          "metadata": {
            "tags": []
          },
          "execution_count": 36
        }
      ]
    },
    {
      "cell_type": "code",
      "metadata": {
        "id": "KwYhWS0kfJ2a",
        "colab_type": "code",
        "colab": {
          "base_uri": "https://localhost:8080/",
          "height": 235
        },
        "outputId": "b6f3f23c-e360-48b4-aa76-aea33cfc178c"
      },
      "source": [
        "new_data.rename(columns={'Close': 'y', 'Date': 'ds'}, inplace=True)\n",
        "new_data.head()"
      ],
      "execution_count": 37,
      "outputs": [
        {
          "output_type": "execute_result",
          "data": {
            "text/html": [
              "<div>\n",
              "<style scoped>\n",
              "    .dataframe tbody tr th:only-of-type {\n",
              "        vertical-align: middle;\n",
              "    }\n",
              "\n",
              "    .dataframe tbody tr th {\n",
              "        vertical-align: top;\n",
              "    }\n",
              "\n",
              "    .dataframe thead th {\n",
              "        text-align: right;\n",
              "    }\n",
              "</style>\n",
              "<table border=\"1\" class=\"dataframe\">\n",
              "  <thead>\n",
              "    <tr style=\"text-align: right;\">\n",
              "      <th></th>\n",
              "      <th>ds</th>\n",
              "      <th>y</th>\n",
              "    </tr>\n",
              "    <tr>\n",
              "      <th>Date</th>\n",
              "      <th></th>\n",
              "      <th></th>\n",
              "    </tr>\n",
              "  </thead>\n",
              "  <tbody>\n",
              "    <tr>\n",
              "      <th>2013-10-08</th>\n",
              "      <td>2013-10-08</td>\n",
              "      <td>155.8</td>\n",
              "    </tr>\n",
              "    <tr>\n",
              "      <th>2013-10-09</th>\n",
              "      <td>2013-10-09</td>\n",
              "      <td>155.55</td>\n",
              "    </tr>\n",
              "    <tr>\n",
              "      <th>2013-10-10</th>\n",
              "      <td>2013-10-10</td>\n",
              "      <td>160.15</td>\n",
              "    </tr>\n",
              "    <tr>\n",
              "      <th>2013-10-11</th>\n",
              "      <td>2013-10-11</td>\n",
              "      <td>160.05</td>\n",
              "    </tr>\n",
              "    <tr>\n",
              "      <th>2013-10-14</th>\n",
              "      <td>2013-10-14</td>\n",
              "      <td>159.45</td>\n",
              "    </tr>\n",
              "  </tbody>\n",
              "</table>\n",
              "</div>"
            ],
            "text/plain": [
              "                   ds       y\n",
              "Date                         \n",
              "2013-10-08 2013-10-08   155.8\n",
              "2013-10-09 2013-10-09  155.55\n",
              "2013-10-10 2013-10-10  160.15\n",
              "2013-10-11 2013-10-11  160.05\n",
              "2013-10-14 2013-10-14  159.45"
            ]
          },
          "metadata": {
            "tags": []
          },
          "execution_count": 37
        }
      ]
    },
    {
      "cell_type": "code",
      "metadata": {
        "id": "MbQeMDMFfUP2",
        "colab_type": "code",
        "colab": {}
      },
      "source": [
        "train = new_data[:987]\n",
        "valid = new_data[987:]\n"
      ],
      "execution_count": 0,
      "outputs": []
    },
    {
      "cell_type": "code",
      "metadata": {
        "id": "-KmjCfO7fY03",
        "colab_type": "code",
        "colab": {
          "base_uri": "https://localhost:8080/",
          "height": 68
        },
        "outputId": "b1de876b-67f5-4753-bd5d-143430fa9619"
      },
      "source": [
        "model = Prophet()\n",
        "model.fit(train)\n"
      ],
      "execution_count": 39,
      "outputs": [
        {
          "output_type": "stream",
          "text": [
            "INFO:numexpr.utils:NumExpr defaulting to 2 threads.\n",
            "INFO:fbprophet:Disabling daily seasonality. Run prophet with daily_seasonality=True to override this.\n"
          ],
          "name": "stderr"
        },
        {
          "output_type": "execute_result",
          "data": {
            "text/plain": [
              "<fbprophet.forecaster.Prophet at 0x7f981f3d3a20>"
            ]
          },
          "metadata": {
            "tags": []
          },
          "execution_count": 39
        }
      ]
    },
    {
      "cell_type": "code",
      "metadata": {
        "id": "UNoUArPJfbEn",
        "colab_type": "code",
        "colab": {}
      },
      "source": [
        "close_prices = model.make_future_dataframe(periods=len(valid))\n",
        "forecast = model.predict(close_prices)"
      ],
      "execution_count": 0,
      "outputs": []
    },
    {
      "cell_type": "code",
      "metadata": {
        "id": "gx3J6KAqfe-Z",
        "colab_type": "code",
        "colab": {
          "base_uri": "https://localhost:8080/",
          "height": 34
        },
        "outputId": "67dd6846-83c3-4a16-cd40-7e9d22fcadab"
      },
      "source": [
        "forecast_valid = forecast['yhat'][987:]\n",
        "rms=np.sqrt(np.mean(np.power((np.array(valid['y'])-np.array(forecast_valid)),2)))\n",
        "rms"
      ],
      "execution_count": 41,
      "outputs": [
        {
          "output_type": "execute_result",
          "data": {
            "text/plain": [
              "57.49446193057514"
            ]
          },
          "metadata": {
            "tags": []
          },
          "execution_count": 41
        }
      ]
    },
    {
      "cell_type": "code",
      "metadata": {
        "id": "JXdqJAw0gI4f",
        "colab_type": "code",
        "colab": {
          "base_uri": "https://localhost:8080/",
          "height": 575
        },
        "outputId": "203a3322-e93f-4ba9-de65-3c669da1aa62"
      },
      "source": [
        "valid['Predictions'] = 0\n",
        "valid['Predictions'] = forecast_valid.values\n",
        "\n",
        "plt.plot(train['y'])\n",
        "plt.plot(valid[['y', 'Predictions']])"
      ],
      "execution_count": 42,
      "outputs": [
        {
          "output_type": "stream",
          "text": [
            "/usr/local/lib/python3.6/dist-packages/ipykernel_launcher.py:1: SettingWithCopyWarning:\n",
            "\n",
            "\n",
            "A value is trying to be set on a copy of a slice from a DataFrame.\n",
            "Try using .loc[row_indexer,col_indexer] = value instead\n",
            "\n",
            "See the caveats in the documentation: http://pandas.pydata.org/pandas-docs/stable/indexing.html#indexing-view-versus-copy\n",
            "\n",
            "/usr/local/lib/python3.6/dist-packages/ipykernel_launcher.py:2: SettingWithCopyWarning:\n",
            "\n",
            "\n",
            "A value is trying to be set on a copy of a slice from a DataFrame.\n",
            "Try using .loc[row_indexer,col_indexer] = value instead\n",
            "\n",
            "See the caveats in the documentation: http://pandas.pydata.org/pandas-docs/stable/indexing.html#indexing-view-versus-copy\n",
            "\n"
          ],
          "name": "stderr"
        },
        {
          "output_type": "execute_result",
          "data": {
            "text/plain": [
              "[<matplotlib.lines.Line2D at 0x7f981f316390>,\n",
              " <matplotlib.lines.Line2D at 0x7f981f3165c0>]"
            ]
          },
          "metadata": {
            "tags": []
          },
          "execution_count": 42
        },
        {
          "output_type": "display_data",
          "data": {
            "image/png": "[encoded data removed]",
            "text/plain": [
              "<Figure size 432x288 with 1 Axes>"
            ]
          },
          "metadata": {
            "tags": []
          }
        }
      ]
    },
    {
      "cell_type": "code",
      "metadata": {
        "id": "XB_b5Tx0gNuo",
        "colab_type": "code",
        "colab": {}
      },
      "source": [
        ""
      ],
      "execution_count": 0,
      "outputs": []
    },
    {
      "cell_type": "markdown",
      "metadata": {
        "id": "TS2vcvsigP-o",
        "colab_type": "text"
      },
      "source": [
        "##Long Short Term Memory(LSTM)"
      ]
    },
    {
      "cell_type": "code",
      "metadata": {
        "id": "-T1OfqsNgbcu",
        "colab_type": "code",
        "colab": {
          "base_uri": "https://localhost:8080/",
          "height": 34
        },
        "outputId": "0a2f9f6a-e93d-4e7a-b79c-0fa60ab2b339"
      },
      "source": [
        "from sklearn.preprocessing import MinMaxScaler\n",
        "from keras.models import Sequential\n",
        "from keras.layers import Dense, Dropout, LSTM"
      ],
      "execution_count": 43,
      "outputs": [
        {
          "output_type": "stream",
          "text": [
            "Using TensorFlow backend.\n"
          ],
          "name": "stderr"
        }
      ]
    },
    {
      "cell_type": "code",
      "metadata": {
        "id": "10Him4QLhZDu",
        "colab_type": "code",
        "colab": {}
      },
      "source": [
        "data = df.sort_index(ascending=True, axis=0)\n",
        "new_data = pd.DataFrame(index=range(0,len(df)),columns=['Date', 'Close'])\n",
        "for i in range(0,len(data)):\n",
        "    new_data['Date'][i] = data['Date'][i]\n",
        "    new_data['Close'][i] = data['Close'][i]"
      ],
      "execution_count": 0,
      "outputs": []
    },
    {
      "cell_type": "code",
      "metadata": {
        "id": "ebc4AeK3hRjj",
        "colab_type": "code",
        "colab": {
          "base_uri": "https://localhost:8080/",
          "height": 235
        },
        "outputId": "ff3803d9-c445-4c5e-f38f-2bdc884ae755"
      },
      "source": [
        "new_data.index = new_data.Date\n",
        "new_data.drop('Date', axis=1, inplace=True)\n",
        "new_data.head()"
      ],
      "execution_count": 49,
      "outputs": [
        {
          "output_type": "execute_result",
          "data": {
            "text/html": [
              "<div>\n",
              "<style scoped>\n",
              "    .dataframe tbody tr th:only-of-type {\n",
              "        vertical-align: middle;\n",
              "    }\n",
              "\n",
              "    .dataframe tbody tr th {\n",
              "        vertical-align: top;\n",
              "    }\n",
              "\n",
              "    .dataframe thead th {\n",
              "        text-align: right;\n",
              "    }\n",
              "</style>\n",
              "<table border=\"1\" class=\"dataframe\">\n",
              "  <thead>\n",
              "    <tr style=\"text-align: right;\">\n",
              "      <th></th>\n",
              "      <th>Close</th>\n",
              "    </tr>\n",
              "    <tr>\n",
              "      <th>Date</th>\n",
              "      <th></th>\n",
              "    </tr>\n",
              "  </thead>\n",
              "  <tbody>\n",
              "    <tr>\n",
              "      <th>2013-10-08</th>\n",
              "      <td>155.8</td>\n",
              "    </tr>\n",
              "    <tr>\n",
              "      <th>2013-10-09</th>\n",
              "      <td>155.55</td>\n",
              "    </tr>\n",
              "    <tr>\n",
              "      <th>2013-10-10</th>\n",
              "      <td>160.15</td>\n",
              "    </tr>\n",
              "    <tr>\n",
              "      <th>2013-10-11</th>\n",
              "      <td>160.05</td>\n",
              "    </tr>\n",
              "    <tr>\n",
              "      <th>2013-10-14</th>\n",
              "      <td>159.45</td>\n",
              "    </tr>\n",
              "  </tbody>\n",
              "</table>\n",
              "</div>"
            ],
            "text/plain": [
              "             Close\n",
              "Date              \n",
              "2013-10-08   155.8\n",
              "2013-10-09  155.55\n",
              "2013-10-10  160.15\n",
              "2013-10-11  160.05\n",
              "2013-10-14  159.45"
            ]
          },
          "metadata": {
            "tags": []
          },
          "execution_count": 49
        }
      ]
    },
    {
      "cell_type": "code",
      "metadata": {
        "id": "kzdhgcaphWvQ",
        "colab_type": "code",
        "colab": {}
      },
      "source": [
        "dataset = new_data.values\n",
        "\n",
        "train = dataset[0:987,:]\n",
        "valid = dataset[987:,:]"
      ],
      "execution_count": 0,
      "outputs": []
    },
    {
      "cell_type": "code",
      "metadata": {
        "id": "jhkvi1hfhnuP",
        "colab_type": "code",
        "colab": {}
      },
      "source": [
        "scaler = MinMaxScaler(feature_range=(0, 1))\n",
        "scaled_data = scaler.fit_transform(dataset)"
      ],
      "execution_count": 0,
      "outputs": []
    },
    {
      "cell_type": "code",
      "metadata": {
        "id": "InBTDYyGhse-",
        "colab_type": "code",
        "colab": {}
      },
      "source": [
        "x_train, y_train = [], []\n",
        "for i in range(60,len(train)):\n",
        "    x_train.append(scaled_data[i-60:i,0])\n",
        "    y_train.append(scaled_data[i,0])"
      ],
      "execution_count": 0,
      "outputs": []
    },
    {
      "cell_type": "code",
      "metadata": {
        "id": "GUBNjS04hyOm",
        "colab_type": "code",
        "colab": {}
      },
      "source": [
        "x_train, y_train = np.array(x_train), np.array(y_train)"
      ],
      "execution_count": 0,
      "outputs": []
    },
    {
      "cell_type": "code",
      "metadata": {
        "id": "rTY2AzDLi2RU",
        "colab_type": "code",
        "colab": {
          "base_uri": "https://localhost:8080/",
          "height": 34
        },
        "outputId": "2aa3c6e6-5b6c-4bf3-a44b-558f97e82a66"
      },
      "source": [
        "x_train.shape"
      ],
      "execution_count": 58,
      "outputs": [
        {
          "output_type": "execute_result",
          "data": {
            "text/plain": [
              "(927, 60)"
            ]
          },
          "metadata": {
            "tags": []
          },
          "execution_count": 58
        }
      ]
    },
    {
      "cell_type": "code",
      "metadata": {
        "id": "R_WEgpf6iqVS",
        "colab_type": "code",
        "colab": {
          "base_uri": "https://localhost:8080/",
          "height": 34
        },
        "outputId": "a29499fd-a792-4560-bdb1-355da8af1315"
      },
      "source": [
        "x_train = np.reshape(x_train, (x_train.shape[0],x_train.shape[1],1))\n",
        "x_train.shape"
      ],
      "execution_count": 59,
      "outputs": [
        {
          "output_type": "execute_result",
          "data": {
            "text/plain": [
              "(927, 60, 1)"
            ]
          },
          "metadata": {
            "tags": []
          },
          "execution_count": 59
        }
      ]
    },
    {
      "cell_type": "code",
      "metadata": {
        "id": "YXfwao7yi-p3",
        "colab_type": "code",
        "colab": {
          "base_uri": "https://localhost:8080/",
          "height": 119
        },
        "outputId": "bd42c6e3-c71d-41d7-a028-998a5266a15b"
      },
      "source": [
        "model = Sequential()\n",
        "model.add(LSTM(units=50, return_sequences=True, input_shape=(x_train.shape[1],1)))\n",
        "model.add(LSTM(units=50))\n",
        "model.add(Dense(1))\n"
      ],
      "execution_count": 60,
      "outputs": [
        {
          "output_type": "stream",
          "text": [
            "WARNING:tensorflow:From /usr/local/lib/python3.6/dist-packages/keras/backend/tensorflow_backend.py:66: The name tf.get_default_graph is deprecated. Please use tf.compat.v1.get_default_graph instead.\n",
            "\n",
            "WARNING:tensorflow:From /usr/local/lib/python3.6/dist-packages/keras/backend/tensorflow_backend.py:541: The name tf.placeholder is deprecated. Please use tf.compat.v1.placeholder instead.\n",
            "\n",
            "WARNING:tensorflow:From /usr/local/lib/python3.6/dist-packages/keras/backend/tensorflow_backend.py:4432: The name tf.random_uniform is deprecated. Please use tf.random.uniform instead.\n",
            "\n"
          ],
          "name": "stderr"
        }
      ]
    },
    {
      "cell_type": "code",
      "metadata": {
        "id": "aLg9BnRLjDvQ",
        "colab_type": "code",
        "colab": {
          "base_uri": "https://localhost:8080/",
          "height": 241
        },
        "outputId": "f413742e-ea3b-4a05-ea63-1b37df85b909"
      },
      "source": [
        "model.compile(loss='mean_squared_error', optimizer='adam')\n",
        "model.fit(x_train, y_train, epochs=1, batch_size=1, verbose=2)"
      ],
      "execution_count": 61,
      "outputs": [
        {
          "output_type": "stream",
          "text": [
            "WARNING:tensorflow:From /usr/local/lib/python3.6/dist-packages/keras/optimizers.py:793: The name tf.train.Optimizer is deprecated. Please use tf.compat.v1.train.Optimizer instead.\n",
            "\n",
            "WARNING:tensorflow:From /usr/local/lib/python3.6/dist-packages/tensorflow/python/ops/math_grad.py:1250: add_dispatch_support.<locals>.wrapper (from tensorflow.python.ops.array_ops) is deprecated and will be removed in a future version.\n",
            "Instructions for updating:\n",
            "Use tf.where in 2.0, which has the same broadcast rule as np.where\n",
            "WARNING:tensorflow:From /usr/local/lib/python3.6/dist-packages/keras/backend/tensorflow_backend.py:1033: The name tf.assign_add is deprecated. Please use tf.compat.v1.assign_add instead.\n",
            "\n",
            "WARNING:tensorflow:From /usr/local/lib/python3.6/dist-packages/keras/backend/tensorflow_backend.py:1020: The name tf.assign is deprecated. Please use tf.compat.v1.assign instead.\n",
            "\n"
          ],
          "name": "stderr"
        },
        {
          "output_type": "stream",
          "text": [
            "Epoch 1/1\n",
            " - 58s - loss: 0.0012\n"
          ],
          "name": "stdout"
        },
        {
          "output_type": "execute_result",
          "data": {
            "text/plain": [
              "<keras.callbacks.History at 0x7f980af3b358>"
            ]
          },
          "metadata": {
            "tags": []
          },
          "execution_count": 61
        }
      ]
    },
    {
      "cell_type": "code",
      "metadata": {
        "id": "rKGBwcZGj6Kv",
        "colab_type": "code",
        "colab": {}
      },
      "source": [
        "inputs = new_data[len(new_data) - len(valid) - 60:].values\n",
        "inputs = inputs.reshape(-1,1)\n",
        "inputs  = scaler.transform(inputs)"
      ],
      "execution_count": 0,
      "outputs": []
    },
    {
      "cell_type": "code",
      "metadata": {
        "id": "TDe5rqnSkYbv",
        "colab_type": "code",
        "colab": {}
      },
      "source": [
        "X_test = []\n",
        "for i in range(60,inputs.shape[0]):\n",
        "    X_test.append(inputs[i-60:i,0])\n",
        "X_test = np.array(X_test)"
      ],
      "execution_count": 0,
      "outputs": []
    },
    {
      "cell_type": "code",
      "metadata": {
        "id": "e6_HZJCkkbq3",
        "colab_type": "code",
        "colab": {}
      },
      "source": [
        "X_test = np.reshape(X_test, (X_test.shape[0],X_test.shape[1],1))\n",
        "closing_price = model.predict(X_test)\n",
        "closing_price = scaler.inverse_transform(closing_price)"
      ],
      "execution_count": 0,
      "outputs": []
    },
    {
      "cell_type": "code",
      "metadata": {
        "id": "oJpbOv8akd8P",
        "colab_type": "code",
        "colab": {
          "base_uri": "https://localhost:8080/",
          "height": 34
        },
        "outputId": "8b45e0bd-99b6-4fe4-c639-9c67866f8820"
      },
      "source": [
        "rms=np.sqrt(np.mean(np.power((valid-closing_price),2)))\n",
        "rms"
      ],
      "execution_count": 65,
      "outputs": [
        {
          "output_type": "execute_result",
          "data": {
            "text/plain": [
              "14.80328293319929"
            ]
          },
          "metadata": {
            "tags": []
          },
          "execution_count": 65
        }
      ]
    },
    {
      "cell_type": "code",
      "metadata": {
        "id": "HAYf1eh2kfsX",
        "colab_type": "code",
        "colab": {
          "base_uri": "https://localhost:8080/",
          "height": 439
        },
        "outputId": "b6f6b787-223e-4bd3-899f-36402458fdc9"
      },
      "source": [
        "train = new_data[:987]\n",
        "valid = new_data[987:]\n",
        "valid['Predictions'] = closing_price\n",
        "plt.plot(train['Close'])\n",
        "plt.plot(valid[['Close','Predictions']])"
      ],
      "execution_count": 66,
      "outputs": [
        {
          "output_type": "stream",
          "text": [
            "/usr/local/lib/python3.6/dist-packages/ipykernel_launcher.py:3: SettingWithCopyWarning:\n",
            "\n",
            "\n",
            "A value is trying to be set on a copy of a slice from a DataFrame.\n",
            "Try using .loc[row_indexer,col_indexer] = value instead\n",
            "\n",
            "See the caveats in the documentation: http://pandas.pydata.org/pandas-docs/stable/indexing.html#indexing-view-versus-copy\n",
            "\n"
          ],
          "name": "stderr"
        },
        {
          "output_type": "execute_result",
          "data": {
            "text/plain": [
              "[<matplotlib.lines.Line2D at 0x7f9804b4b3c8>,\n",
              " <matplotlib.lines.Line2D at 0x7f9804b4b630>]"
            ]
          },
          "metadata": {
            "tags": []
          },
          "execution_count": 66
        },
        {
          "output_type": "display_data",
          "data": {
            "image/png": "[encoded data removed]",
            "text/plain": [
              "<Figure size 432x288 with 1 Axes>"
            ]
          },
          "metadata": {
            "tags": []
          }
        }
      ]
    },
    {
      "cell_type": "code",
      "metadata": {
        "id": "dM_l5yBPkixf",
        "colab_type": "code",
        "colab": {}
      },
      "source": [
        ""
      ],
      "execution_count": 0,
      "outputs": []
    }
  ]
}